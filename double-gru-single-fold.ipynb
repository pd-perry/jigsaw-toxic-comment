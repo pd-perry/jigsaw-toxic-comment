{
 "cells": [
  {
   "cell_type": "code",
   "execution_count": 1,
   "metadata": {},
   "outputs": [
    {
     "name": "stderr",
     "output_type": "stream",
     "text": [
      "\u001b[34m\u001b[1mwandb\u001b[0m: \u001b[33mWARNING\u001b[0m W&B installed but not logged in.  Run `wandb login` or set the WANDB_API_KEY env variable.\n"
     ]
    }
   ],
   "source": [
    "import os\n",
    "import gc\n",
    "import seaborn as sns\n",
    "import pandas as pd\n",
    "import numpy as np\n",
    "import transformers\n",
    "import matplotlib.pyplot as plt\n",
    "from tqdm.notebook import tqdm\n",
    "import tensorflow as tf\n",
    "from tensorflow.keras import backend as K\n",
    "import tensorflow_addons as tfa\n",
    "from tensorflow.keras.layers import Dense, Input, Conv1D, MaxPooling1D, LSTM, Dropout, Activation, Bidirectional, GRU\n",
    "from tensorflow.keras.callbacks import EarlyStopping, ModelCheckpoint, ReduceLROnPlateau\n",
    "from tensorflow.keras.models import Model\n",
    "from tensorflow.keras.optimizers import Adam\n",
    "from tensorflow.keras.metrics import AUC\n",
    "from tensorflow.keras.losses import BinaryCrossentropy\n",
    "from tensorflow.keras import regularizers\n",
    "from tensorflow.keras.callbacks import EarlyStopping, ModelCheckpoint, LearningRateScheduler\n",
    "from sklearn.metrics import classification_report, confusion_matrix\n",
    "from sklearn.model_selection import train_test_split, StratifiedKFold"
   ]
  },
  {
   "cell_type": "markdown",
   "metadata": {},
   "source": [
    "Loading training/validation/test data."
   ]
  },
  {
   "cell_type": "code",
   "execution_count": 2,
   "metadata": {},
   "outputs": [],
   "source": [
    "kaggle = '/kaggle/input/xlmroberta-tokenized/'\n",
    "kaggle1 = '/kaggle/input/undersampled-xlm-roberta-tokenizer/'\n",
    "ensembled = '/kaggle/input/blending-vibes/'\n",
    "\n",
    "x_train = np.load(f'{kaggle}x_train.npy/x_train.npy')\n",
    "y_train = np.load(f'{kaggle}y_train.npy')\n",
    "y_train = y_train.astype(int)\n",
    "\n",
    "x_valid = np.load(f'{kaggle1}x_valid.npy')\n",
    "y_valid = np.load(f'{kaggle}y_valid.npy')\n",
    "\n",
    "x_test1 = np.load(f'{kaggle}x_test1.npy')\n",
    "x_test2 = np.load(f'{kaggle}x_test2.npy')\n",
    "x_test3 = np.load(f'{kaggle}x_test3.npy')\n",
    "\n",
    "y_test1 = pd.read_csv(f'{ensembled}submission_ensemble.csv')\n",
    "y_test1 = y_test1.toxic"
   ]
  },
  {
   "cell_type": "code",
   "execution_count": 3,
   "metadata": {},
   "outputs": [],
   "source": [
    "y_test1 = np.where(y_test1<0.5, 0,1)\n",
    "y_test1 = y_test1.astype(int)"
   ]
  },
  {
   "cell_type": "code",
   "execution_count": 4,
   "metadata": {},
   "outputs": [],
   "source": [
    "training = np.concatenate([x_train, x_test1])\n",
    "labels = np.concatenate([y_train, y_test1])"
   ]
  },
  {
   "cell_type": "markdown",
   "metadata": {},
   "source": [
    "### TPU Configuration"
   ]
  },
  {
   "cell_type": "code",
   "execution_count": 5,
   "metadata": {},
   "outputs": [
    {
     "name": "stdout",
     "output_type": "stream",
     "text": [
      "Running on TPU  grpc://10.0.0.2:8470\n",
      "REPLICAS:  8\n"
     ]
    }
   ],
   "source": [
    "# Detect hardware, return appropriate distribution strategy\n",
    "try:\n",
    "    # TPU detection. No parameters necessary if TPU_NAME environment variable is\n",
    "    # set: this is always the case on Kaggle.\n",
    "    tpu = tf.distribute.cluster_resolver.TPUClusterResolver()\n",
    "    print('Running on TPU ', tpu.master())\n",
    "except ValueError:\n",
    "    tpu = None\n",
    "\n",
    "if tpu:\n",
    "    tf.config.experimental_connect_to_cluster(tpu)\n",
    "    tf.tpu.experimental.initialize_tpu_system(tpu)\n",
    "    strategy = tf.distribute.experimental.TPUStrategy(tpu)\n",
    "else:\n",
    "    # Default distribution strategy in Tensorflow. Works on CPU and single GPU.\n",
    "    strategy = tf.distribute.get_strategy()\n",
    "\n",
    "print(\"REPLICAS: \", strategy.num_replicas_in_sync)"
   ]
  },
  {
   "cell_type": "code",
   "execution_count": 6,
   "metadata": {},
   "outputs": [],
   "source": [
    "# Global Variables\n",
    "BATCHSIZE = 128\n",
    "EPOCHS = 4\n",
    "PRE_TRAINED = '/kaggle/input/finetune-xlm-roberta-on-jigsaw-test-data-with-mlm'\n",
    "AUTO = tf.data.experimental.AUTOTUNE\n",
    "NUMCORES = strategy.num_replicas_in_sync"
   ]
  },
  {
   "cell_type": "markdown",
   "metadata": {},
   "source": [
    "Helper function to build model."
   ]
  },
  {
   "cell_type": "code",
   "execution_count": 7,
   "metadata": {},
   "outputs": [],
   "source": [
    "def build(transformer, maxlen=512):\n",
    "    \"\"\"\n",
    "    https://www.kaggle.com/xhlulu/jigsaw-tpu-distilbert-with-huggingface-and-keras\n",
    "    \"\"\"\n",
    "    input_ids = Input(shape=(maxlen,), dtype=tf.int32, name=\"input_word_ids\")\n",
    "    cls_token = transformer(input_ids)[0][:,0,:]\n",
    "    out = tf.reshape(cls_token, [-1, 1, cls_token.shape[1]])\n",
    "    out = Dropout(0.25)(out)\n",
    "    gru1 = Bidirectional(GRU(1024, activation='relu'))(out)\n",
    "    rs = tf.reshape(gru1, [-1, 1, 2048])\n",
    "    rs = Dropout(0.25)(rs)\n",
    "    out = Bidirectional(GRU(2048, activation='relu'))(rs)\n",
    "    out = Dense(1, activation='sigmoid')(out)\n",
    "    model = Model(inputs=input_ids, outputs=out)\n",
    "    model.compile(tfa.optimizers.AdamW(weight_decay=1e-9, learning_rate=1e-5), \n",
    "                  loss='binary_crossentropy', metrics=['accuracy', AUC()])\n",
    "    return model"
   ]
  },
  {
   "cell_type": "markdown",
   "metadata": {},
   "source": [
    "Create TF dataset objects."
   ]
  },
  {
   "cell_type": "code",
   "execution_count": 8,
   "metadata": {},
   "outputs": [],
   "source": [
    "train_dataset = (\n",
    "    tf.data.Dataset\n",
    "        .from_tensor_slices((training, labels))\n",
    "        .repeat()\n",
    "        .shuffle(x_train.shape[0])\n",
    "        .batch(BATCHSIZE)\n",
    "        .prefetch(AUTO)\n",
    ")\n",
    "\n",
    "valid_dataset = (\n",
    "    tf.data.Dataset\n",
    "        .from_tensor_slices((x_valid, y_valid))\n",
    "        .batch(BATCHSIZE)\n",
    "        .cache()\n",
    "        .prefetch(AUTO)\n",
    ")\n",
    "\n",
    "test1 = (\n",
    "    tf.data.Dataset\n",
    "        .from_tensor_slices(x_test1)\n",
    "        .batch(BATCHSIZE)\n",
    ")\n",
    "\n",
    "test2 = (\n",
    "    tf.data.Dataset\n",
    "        .from_tensor_slices(x_test2)\n",
    "        .batch(BATCHSIZE)\n",
    ")\n",
    "\n",
    "test3 = (\n",
    "    tf.data.Dataset\n",
    "        .from_tensor_slices(x_test3)\n",
    "        .batch(BATCHSIZE)\n",
    ")"
   ]
  },
  {
   "cell_type": "markdown",
   "metadata": {},
   "source": [
    "# Training"
   ]
  },
  {
   "cell_type": "code",
   "execution_count": 9,
   "metadata": {},
   "outputs": [
    {
     "name": "stdout",
     "output_type": "stream",
     "text": [
      "Model: \"model\"\n",
      "_________________________________________________________________\n",
      "Layer (type)                 Output Shape              Param #   \n",
      "=================================================================\n",
      "input_word_ids (InputLayer)  [(None, 192)]             0         \n",
      "_________________________________________________________________\n",
      "tf_roberta_model (TFRobertaM ((None, 192, 1024), (None 559890432 \n",
      "_________________________________________________________________\n",
      "tf_op_layer_strided_slice (T [(None, 1024)]            0         \n",
      "_________________________________________________________________\n",
      "tf_op_layer_Reshape (TensorF [(None, 1, 1024)]         0         \n",
      "_________________________________________________________________\n",
      "dropout_74 (Dropout)         (None, 1, 1024)           0         \n",
      "_________________________________________________________________\n",
      "bidirectional (Bidirectional (None, 2048)              12595200  \n",
      "_________________________________________________________________\n",
      "tf_op_layer_Reshape_1 (Tenso [(None, 1, 2048)]         0         \n",
      "_________________________________________________________________\n",
      "dropout_75 (Dropout)         (None, 1, 2048)           0         \n",
      "_________________________________________________________________\n",
      "bidirectional_1 (Bidirection (None, 4096)              50356224  \n",
      "_________________________________________________________________\n",
      "dense (Dense)                (None, 1)                 4097      \n",
      "=================================================================\n",
      "Total params: 622,845,953\n",
      "Trainable params: 622,845,953\n",
      "Non-trainable params: 0\n",
      "_________________________________________________________________\n",
      "CPU times: user 30.2 s, sys: 23.5 s, total: 53.7 s\n",
      "Wall time: 1min 7s\n"
     ]
    }
   ],
   "source": [
    "%%time\n",
    "with strategy.scope():\n",
    "    transformer_layer = transformers.TFAutoModel.from_pretrained(PRE_TRAINED)\n",
    "    model = build(transformer_layer, maxlen=192)\n",
    "model.summary()"
   ]
  },
  {
   "cell_type": "code",
   "execution_count": 10,
   "metadata": {},
   "outputs": [],
   "source": [
    "class EarlyTesting(tf.keras.callbacks.Callback):\n",
    "    results = []\n",
    "    def __init__(self, x_test: list):\n",
    "        super(EarlyTesting, self).__init__()\n",
    "        self.test = x_test\n",
    "    \n",
    "    def on_epoch_end(self, epoch, logs=None):\n",
    "        if epoch > 3:\n",
    "            for test in self.test:\n",
    "                p_test = self.model.predict(test)[0:len(x_test1)].flatten()\n",
    "                self.results.append(p_test)"
   ]
  },
  {
   "cell_type": "markdown",
   "metadata": {},
   "source": [
    "Callbacks to predict on test set after every epoch"
   ]
  },
  {
   "cell_type": "code",
   "execution_count": 11,
   "metadata": {},
   "outputs": [
    {
     "name": "stdout",
     "output_type": "stream",
     "text": [
      "Epoch 1/10\n"
     ]
    },
    {
     "name": "stderr",
     "output_type": "stream",
     "text": [
      "/opt/conda/lib/python3.7/site-packages/tensorflow/python/framework/indexed_slices.py:431: UserWarning: Converting sparse IndexedSlices to a dense Tensor with 256002048 elements. This may consume a large amount of memory.\n",
      "  num_elements)\n"
     ]
    },
    {
     "name": "stdout",
     "output_type": "stream",
     "text": [
      "680/680 [==============================] - ETA: 0s - loss: 0.3024 - auc: 0.9433 - accuracy: 0.8691\n",
      "Epoch 00001: val_loss improved from inf to 0.34866, saving model to model.h5\n",
      "680/680 [==============================] - 342s 503ms/step - loss: 0.3024 - auc: 0.9433 - accuracy: 0.8691 - val_loss: 0.3487 - val_auc: 0.9278 - val_accuracy: 0.8605\n",
      "Epoch 2/10\n",
      "680/680 [==============================] - ETA: 0s - loss: 0.2254 - auc: 0.9675 - accuracy: 0.9090\n",
      "Epoch 00002: val_loss improved from 0.34866 to 0.26617, saving model to model.h5\n",
      "680/680 [==============================] - 306s 450ms/step - loss: 0.2254 - auc: 0.9675 - accuracy: 0.9090 - val_loss: 0.2662 - val_auc: 0.9094 - val_accuracy: 0.8983\n",
      "Epoch 3/10\n",
      "680/680 [==============================] - ETA: 0s - loss: 0.2298 - auc: 0.9655 - accuracy: 0.9064\n",
      "Epoch 00003: val_loss did not improve from 0.26617\n",
      "680/680 [==============================] - 297s 437ms/step - loss: 0.2298 - auc: 0.9655 - accuracy: 0.9064 - val_loss: 0.2704 - val_auc: 0.9110 - val_accuracy: 0.8960\n",
      "Epoch 4/10\n",
      "680/680 [==============================] - ETA: 0s - loss: 0.2372 - auc: 0.9631 - accuracy: 0.9022\n",
      "Epoch 00004: val_loss did not improve from 0.26617\n",
      "680/680 [==============================] - 297s 436ms/step - loss: 0.2372 - auc: 0.9631 - accuracy: 0.9022 - val_loss: 0.2985 - val_auc: 0.8937 - val_accuracy: 0.9019\n",
      "Epoch 5/10\n",
      "680/680 [==============================] - ETA: 0s - loss: 0.2409 - auc: 0.9624 - accuracy: 0.9020\n",
      "Epoch 00005: val_loss did not improve from 0.26617\n",
      "680/680 [==============================] - 402s 591ms/step - loss: 0.2409 - auc: 0.9624 - accuracy: 0.9020 - val_loss: 0.2827 - val_auc: 0.9136 - val_accuracy: 0.9023\n",
      "Epoch 6/10\n",
      "680/680 [==============================] - ETA: 0s - loss: 0.2414 - auc: 0.9623 - accuracy: 0.9005\n",
      "Epoch 00006: val_loss did not improve from 0.26617\n",
      "680/680 [==============================] - 371s 545ms/step - loss: 0.2414 - auc: 0.9623 - accuracy: 0.9005 - val_loss: 0.2873 - val_auc: 0.8953 - val_accuracy: 0.8956\n",
      "Epoch 7/10\n",
      "680/680 [==============================] - ETA: 0s - loss: 0.2269 - auc: 0.9668 - accuracy: 0.9066\n",
      "Epoch 00007: val_loss did not improve from 0.26617\n",
      "680/680 [==============================] - 371s 545ms/step - loss: 0.2269 - auc: 0.9668 - accuracy: 0.9066 - val_loss: 0.3221 - val_auc: 0.9223 - val_accuracy: 0.8733\n",
      "Epoch 8/10\n",
      "680/680 [==============================] - ETA: 0s - loss: 0.2201 - auc: 0.9685 - accuracy: 0.9096\n",
      "Epoch 00008: val_loss did not improve from 0.26617\n",
      "680/680 [==============================] - 372s 548ms/step - loss: 0.2201 - auc: 0.9685 - accuracy: 0.9096 - val_loss: 0.2968 - val_auc: 0.9243 - val_accuracy: 0.8933\n",
      "Epoch 9/10\n",
      "680/680 [==============================] - ETA: 0s - loss: 0.2127 - auc: 0.9699 - accuracy: 0.9117\n",
      "Epoch 00009: val_loss improved from 0.26617 to 0.26441, saving model to model.h5\n",
      "680/680 [==============================] - 382s 562ms/step - loss: 0.2127 - auc: 0.9699 - accuracy: 0.9117 - val_loss: 0.2644 - val_auc: 0.9290 - val_accuracy: 0.9038\n",
      "Epoch 10/10\n",
      "680/680 [==============================] - ETA: 0s - loss: 0.1985 - auc: 0.9729 - accuracy: 0.9182\n",
      "Epoch 00010: val_loss did not improve from 0.26441\n",
      "680/680 [==============================] - 372s 548ms/step - loss: 0.1985 - auc: 0.9729 - accuracy: 0.9182 - val_loss: 0.2673 - val_auc: 0.9286 - val_accuracy: 0.8973\n",
      "[array([0.02234185, 0.00375283, 0.00819957, ..., 0.50143695, 0.0021573 ,\n",
      "       0.50143695], dtype=float32), array([0.16228983, 0.05604497, 0.02708873, ..., 0.5011691 , 0.00325537,\n",
      "       0.5011691 ], dtype=float32), array([1.6471291e-01, 2.5419891e-03, 2.5726920e-01, ..., 5.0090843e-01,\n",
      "       4.1636825e-04, 5.0090843e-01], dtype=float32), array([0.17339826, 0.00953212, 0.37425953, ..., 0.5007584 , 0.00234428,\n",
      "       0.5007584 ], dtype=float32), array([0.22579622, 0.00077474, 0.13287315, ..., 0.5006942 , 0.00199735,\n",
      "       0.5006942 ], dtype=float32), array([1.3762096e-01, 3.4982264e-03, 1.2736067e-01, ..., 5.0040281e-01,\n",
      "       3.6326051e-04, 5.0040281e-01], dtype=float32)]\n"
     ]
    }
   ],
   "source": [
    "checkpoints = tf.keras.callbacks.ModelCheckpoint('model.h5', monitor='val_loss', verbose=1,\n",
    "                                                 save_best_only=True, save_weights_only=True,\n",
    "                                                 mode='min', save_freq='epoch') \n",
    "et = EarlyTesting([x_test1])\n",
    "training_history = model.fit(train_dataset, \n",
    "                    steps_per_epoch=680, \n",
    "                    validation_data=valid_dataset,\n",
    "                    epochs=10,\n",
    "                    callbacks=[checkpoints, et])\n",
    "print(EarlyTesting.results)"
   ]
  },
  {
   "cell_type": "markdown",
   "metadata": {},
   "source": [
    "# Train on Validation Data"
   ]
  },
  {
   "cell_type": "code",
   "execution_count": 12,
   "metadata": {},
   "outputs": [
    {
     "name": "stdout",
     "output_type": "stream",
     "text": [
      "Epoch 1/2\n",
      "62/62 [==============================] - 89s 1s/step - loss: 0.6156 - auc: 0.9301 - accuracy: 0.8100 - val_loss: 0.2596 - val_auc: 0.9630 - val_accuracy: 0.9072\n",
      "Epoch 2/2\n",
      "62/62 [==============================] - 89s 1s/step - loss: 0.4153 - auc: 0.9672 - accuracy: 0.8690 - val_loss: 0.2941 - val_auc: 0.9556 - val_accuracy: 0.9061\n"
     ]
    }
   ],
   "source": [
    "CLASS_WEIGHTS = {0:1, 1:7}\n",
    "model.load_weights('model.h5')\n",
    "\n",
    "training_history = model.fit(valid_dataset.repeat(), \n",
    "                    steps_per_epoch=len(x_valid)//BATCHSIZE,\n",
    "                    validation_data=train_dataset,\n",
    "                    epochs=2,\n",
    "                    validation_steps=500,\n",
    "                    class_weight=CLASS_WEIGHTS)"
   ]
  },
  {
   "cell_type": "markdown",
   "metadata": {},
   "source": [
    "# Plotting Training History"
   ]
  },
  {
   "cell_type": "code",
   "execution_count": 13,
   "metadata": {
    "_kg_hide-input": true,
    "_kg_hide-output": false
   },
   "outputs": [
    {
     "data": {
      "text/plain": [
       "<matplotlib.legend.Legend at 0x7fa706e0c490>"
      ]
     },
     "execution_count": 13,
     "metadata": {},
     "output_type": "execute_result"
    },
    {
     "data": {
      "image/png": "[encoded data removed]",
      "text/plain": [
       "<Figure size 1440x720 with 4 Axes>"
      ]
     },
     "metadata": {
      "needs_background": "light"
     },
     "output_type": "display_data"
    }
   ],
   "source": [
    "import matplotlib.pyplot as plt\n",
    "\n",
    "\n",
    "f, axarr = plt.subplots(2, 2, figsize=(20, 10))\n",
    "auc = axarr[0,0]\n",
    "acc = axarr[0,1]\n",
    "loss = axarr[1,0]\n",
    "\n",
    "auc.plot(training_history.history['auc'])\n",
    "auc.plot(training_history.history['val_auc'])\n",
    "auc.set_title('Model AUC vs. Epoch')\n",
    "auc.set_ylabel('AUC')\n",
    "auc.set_xlabel('Epoch')\n",
    "auc.legend(['Train', 'Valid'], loc='upper left')\n",
    "\n",
    "acc.plot(training_history.history['accuracy'])\n",
    "acc.plot(training_history.history['val_accuracy'])\n",
    "acc.set_title('Model Accuracy vs. Epoch')\n",
    "acc.set_ylabel('Accuracy')\n",
    "acc.set_xlabel('Epoch')\n",
    "acc.legend(['Train', 'Valid'], loc='upper left')\n",
    "\n",
    "loss.plot(training_history.history['loss'])\n",
    "loss.plot(training_history.history['val_loss'])\n",
    "loss.set_title('Model Loss vs. Epoch')\n",
    "loss.set_ylabel('Loss')\n",
    "loss.set_xlabel('Epoch')\n",
    "loss.legend(['Train', 'Valid'], loc='upper left')"
   ]
  },
  {
   "cell_type": "markdown",
   "metadata": {},
   "source": [
    "# Inference\n"
   ]
  },
  {
   "cell_type": "code",
   "execution_count": 14,
   "metadata": {},
   "outputs": [],
   "source": [
    "np.save('individual_predictions', EarlyTesting.results)"
   ]
  },
  {
   "cell_type": "code",
   "execution_count": 15,
   "metadata": {},
   "outputs": [
    {
     "name": "stdout",
     "output_type": "stream",
     "text": [
      "63/63 [==============================] - 19s 307ms/step\n"
     ]
    }
   ],
   "source": [
    "model.load_weights('model.h5')\n",
    "valid = model.predict(valid_dataset, verbose=1)[0:len(x_valid)].flatten()\n",
    "ids = list(range(len(valid)))\n",
    "valid_submission = pd.DataFrame({'id': ids, 'toxic': valid}, columns=['id', 'toxic'])\n",
    "valid_submission.to_csv('valid_submission.csv')"
   ]
  },
  {
   "cell_type": "code",
   "execution_count": 16,
   "metadata": {},
   "outputs": [
    {
     "name": "stdout",
     "output_type": "stream",
     "text": [
      "499/499 [==============================] - 68s 136ms/step\n"
     ]
    }
   ],
   "source": [
    "sub = pd.read_csv('/kaggle/input/jigsaw-multilingual-toxic-comment-classification/sample_submission.csv')\n",
    "\n",
    "ptest1 = model.predict(test1, verbose=1)[0:len(sub['toxic'])].flatten()\n",
    "EarlyTesting.results.append(ptest1)\n",
    "alltests = np.array(EarlyTesting.results)\n",
    "sub.toxic = alltests.mean(axis=0)\n",
    "sub.to_csv('submission.csv', index=False)"
   ]
  }
 ],
 "metadata": {
  "kernelspec": {
   "display_name": "Python 3",
   "language": "python",
   "name": "python3"
  },
  "language_info": {
   "codemirror_mode": {
    "name": "ipython",
    "version": 3
   },
   "file_extension": ".py",
   "mimetype": "text/x-python",
   "name": "python",
   "nbconvert_exporter": "python",
   "pygments_lexer": "ipython3",
   "version": "3.7.6"
  }
 },
 "nbformat": 4,
 "nbformat_minor": 4
}
